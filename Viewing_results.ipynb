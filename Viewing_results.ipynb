{
  "nbformat": 4,
  "nbformat_minor": 0,
  "metadata": {
    "colab": {
      "name": "Viewing_results.ipynb",
      "provenance": [],
      "mount_file_id": "11y-hQpM1fF6nI8e0vcjEvIAtkbAVPkDF",
      "authorship_tag": "ABX9TyPC/9BkUVFiRVLEAT9IkajE",
      "include_colab_link": true
    },
    "kernelspec": {
      "name": "python3",
      "display_name": "Python 3"
    }
  },
  "cells": [
    {
      "cell_type": "markdown",
      "metadata": {
        "id": "view-in-github",
        "colab_type": "text"
      },
      "source": [
        "<a href=\"https://colab.research.google.com/github/achrisk/Dissertation/blob/main/Viewing_results.ipynb\" target=\"_parent\"><img src=\"https://colab.research.google.com/assets/colab-badge.svg\" alt=\"Open In Colab\"/></a>"
      ]
    },
    {
      "cell_type": "code",
      "metadata": {
        "colab": {
          "base_uri": "https://localhost:8080/"
        },
        "id": "G12GG1_a4hLd",
        "outputId": "95f47955-3a4b-4fb0-ff8a-35c789bc0df7"
      },
      "source": [
        "!git clone https://github.com/achrisk/Dissertation.git"
      ],
      "execution_count": 38,
      "outputs": [
        {
          "output_type": "stream",
          "text": [
            "fatal: destination path 'Dissertation' already exists and is not an empty directory.\n"
          ],
          "name": "stdout"
        }
      ]
    },
    {
      "cell_type": "code",
      "metadata": {
        "id": "m5M1raAqy0xY"
      },
      "source": [
        "import scipy.io as spio\r\n",
        "import numpy as np\r\n",
        "import pandas as pd\r\n",
        "from importlib.machinery import SourceFileLoader\r\n",
        "import pickle\r\n",
        "\r\n",
        "# EEGNet-specific imports\r\n",
        "from tensorflow.keras import utils as np_utils\r\n",
        "from tensorflow.keras.callbacks import ModelCheckpoint\r\n",
        "from tensorflow.keras import backend as K\r\n",
        "from tensorflow.keras.models import Model\r\n",
        "from tensorflow.keras.layers import Dense, Activation, Permute, Dropout\r\n",
        "from tensorflow.keras.layers import Conv2D, MaxPooling2D, AveragePooling2D\r\n",
        "from tensorflow.keras.layers import SeparableConv2D, DepthwiseConv2D\r\n",
        "from tensorflow.keras.layers import BatchNormalization\r\n",
        "from tensorflow.keras.layers import Input, Flatten\r\n",
        "from tensorflow.keras.constraints import max_norm#\r\n",
        "from google.colab import files\r\n",
        "from sklearn.metrics import cohen_kappa_score\r\n",
        "from google.colab import drive\r\n",
        "\r\n",
        "K.set_image_data_format('channels_first')\r\n",
        "\r\n",
        "\r\n",
        "from tensorflow.keras.regularizers import l1_l2\r\n",
        "\r\n",
        "from tensorflow.keras.layers import SpatialDropout2D\r\n",
        "K.set_image_data_format('channels_first')\r\n",
        "\r\n",
        "from sklearn.pipeline import make_pipeline\r\n",
        "from sklearn.linear_model import LogisticRegression\r\n",
        "\r\n",
        "# tools for plotting confusion matrices\r\n",
        "from matplotlib import pyplot as plt\r\n",
        "from scipy.signal import butter, lfilter\r\n",
        "\r\n",
        "# formatting numbers\r\n",
        "float_formatter = \"{:.3f}\".format\r\n",
        "np.set_printoptions(formatter={'float_kind':float_formatter})"
      ],
      "execution_count": 39,
      "outputs": []
    },
    {
      "cell_type": "code",
      "metadata": {
        "colab": {
          "base_uri": "https://localhost:8080/",
          "height": 280
        },
        "id": "ecSHgcRmym4N",
        "outputId": "fd7f0b0a-5e53-4658-e1b3-018bb97cb051"
      },
      "source": [
        "model_name = 'ShallowConvNet'  # ShallowConvNet or DeepConvNet\r\n",
        "kernels, chans, samples = 1, 12, 1536\r\n",
        "h_cut = [18,24,30]\r\n",
        "drop_out = [0.25,0.5]\r\n",
        "#k_len = [32,64,128,256]\r\n",
        "n_epochs = 100\r\n",
        "\r\n",
        "\r\n",
        "outfname_history = 'Dissertation/Results/ShallowConvNet/Convolutional Layer_50/accuray_epochs' + str(n_epochs) + '_filter_' + str(h_cut) + '_drop_' + str(drop_out) + '_model_' + str(model_name) + '_history_data.pickle'\r\n",
        "outfname = 'Dissertation/Results/ShallowConvNet/Convolutional Layer_50/accuray_epochs' + str(n_epochs)  + '_filter_' + str(h_cut) + '_drop_' + str(drop_out) + '_model_' + str(model_name) + '_patient_data.pickle'\r\n",
        "\r\n",
        "with open(outfname_history, 'rb') as handle:\r\n",
        "    history = pickle.load(handle)\r\n",
        "\r\n",
        "with open(outfname, 'rb') as handle:\r\n",
        "    hyper_parameter_matrix = pickle.load(handle)\r\n",
        "\r\n",
        "#mean across patients per given a selection of hyperparameters\r\n",
        "hyper_parameter_matrix_mean_patient = np.mean(hyper_parameter_matrix, axis=0, keepdims=True) \r\n",
        "\r\n",
        "print(hyper_parameter_matrix_mean_patient)\r\n"
      ],
      "execution_count": 43,
      "outputs": [
        {
          "output_type": "error",
          "ename": "FileNotFoundError",
          "evalue": "ignored",
          "traceback": [
            "\u001b[0;31m---------------------------------------------------------------------------\u001b[0m",
            "\u001b[0;31mFileNotFoundError\u001b[0m                         Traceback (most recent call last)",
            "\u001b[0;32m<ipython-input-43-e38084c4958d>\u001b[0m in \u001b[0;36m<module>\u001b[0;34m()\u001b[0m\n\u001b[1;32m     10\u001b[0m \u001b[0moutfname\u001b[0m \u001b[0;34m=\u001b[0m \u001b[0;34m'Dissertation/Results/ShallowConvNet/Convolutional Layer_50/accuray_epochs'\u001b[0m \u001b[0;34m+\u001b[0m \u001b[0mstr\u001b[0m\u001b[0;34m(\u001b[0m\u001b[0mn_epochs\u001b[0m\u001b[0;34m)\u001b[0m  \u001b[0;34m+\u001b[0m \u001b[0;34m'_filter_'\u001b[0m \u001b[0;34m+\u001b[0m \u001b[0mstr\u001b[0m\u001b[0;34m(\u001b[0m\u001b[0mh_cut\u001b[0m\u001b[0;34m)\u001b[0m \u001b[0;34m+\u001b[0m \u001b[0;34m'_drop_'\u001b[0m \u001b[0;34m+\u001b[0m \u001b[0mstr\u001b[0m\u001b[0;34m(\u001b[0m\u001b[0mdrop_out\u001b[0m\u001b[0;34m)\u001b[0m \u001b[0;34m+\u001b[0m \u001b[0;34m'_model_'\u001b[0m \u001b[0;34m+\u001b[0m \u001b[0mstr\u001b[0m\u001b[0;34m(\u001b[0m\u001b[0mmodel_name\u001b[0m\u001b[0;34m)\u001b[0m \u001b[0;34m+\u001b[0m \u001b[0;34m'_patient_data.pickle'\u001b[0m\u001b[0;34m\u001b[0m\u001b[0;34m\u001b[0m\u001b[0m\n\u001b[1;32m     11\u001b[0m \u001b[0;34m\u001b[0m\u001b[0m\n\u001b[0;32m---> 12\u001b[0;31m \u001b[0;32mwith\u001b[0m \u001b[0mopen\u001b[0m\u001b[0;34m(\u001b[0m\u001b[0moutfname_history\u001b[0m\u001b[0;34m,\u001b[0m \u001b[0;34m'rb'\u001b[0m\u001b[0;34m)\u001b[0m \u001b[0;32mas\u001b[0m \u001b[0mhandle\u001b[0m\u001b[0;34m:\u001b[0m\u001b[0;34m\u001b[0m\u001b[0;34m\u001b[0m\u001b[0m\n\u001b[0m\u001b[1;32m     13\u001b[0m     \u001b[0mhistory\u001b[0m \u001b[0;34m=\u001b[0m \u001b[0mpickle\u001b[0m\u001b[0;34m.\u001b[0m\u001b[0mload\u001b[0m\u001b[0;34m(\u001b[0m\u001b[0mhandle\u001b[0m\u001b[0;34m)\u001b[0m\u001b[0;34m\u001b[0m\u001b[0;34m\u001b[0m\u001b[0m\n\u001b[1;32m     14\u001b[0m \u001b[0;34m\u001b[0m\u001b[0m\n",
            "\u001b[0;31mFileNotFoundError\u001b[0m: [Errno 2] No such file or directory: 'Dissertation/Results/ShallowConvNet/Convolutional Layer_50/accuray_epochs100_filter_[18, 24, 30]_drop_[0.25, 0.5]_model_ShallowConvNet_history_data.pickle'"
          ]
        }
      ]
    },
    {
      "cell_type": "code",
      "metadata": {
        "id": "RUGqwO6Q9s6O"
      },
      "source": [
        "\r\n",
        "ind = np.unravel_index(np.argmax(acc_sub, axis=None), acc_sub.shape) #index of optimal hyperparameters\r\n",
        "acc_sub\r\n",
        "hyper_parameter_matrix\r\n",
        "hyper_parameter_matrix[ind] #accuracy of optimal model (i.e. best hyperparameters)\r\n",
        "reduced_acc_sub = np.mean(acc_sub, axis=0, keepdims=True) #mean across patients per given selection of hyperparameters\r\n",
        "hyper_parameter_matrix_sub = np.mean(hyper_parameter_matrix, axis=0, keepdims=True) #mean across patients per given selection of hyperparameters\r\n",
        "\r\n",
        "sem_acc = np.std(acc_sub, axis=0, keepdims=True) #std across patients per given selection of hyperparameters\r\n",
        "\r\n",
        "ind_reduced = np.unravel_index(np.argmax(reduced_acc_sub, axis=None), reduced_acc_sub.shape) #index for best hyperparameter selection for best mean accuracy across patients\r\n",
        "#print('Index is: {}'.format(ind_reduced[-1]))\r\n",
        "#print('Hyperparameters are: {}'.format(hyper_parameter_matrix[ind_reduced]))\r\n",
        "#print(hyper_parameter_matrix[ind_reduced])\r\n",
        "\r\n",
        "#print(acc_sub)\r\n",
        "\r\n",
        "\r\n",
        "\r\n",
        "#print(reduced_acc_sub)\r\n",
        "print(hyper_parameter_matrix_sub)\r\n",
        "#print(sem_acc)"
      ],
      "execution_count": null,
      "outputs": []
    }
  ]
}