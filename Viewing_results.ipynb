{
  "nbformat": 4,
  "nbformat_minor": 0,
  "metadata": {
    "colab": {
      "name": "Viewing_results.ipynb",
      "provenance": [],
      "mount_file_id": "11y-hQpM1fF6nI8e0vcjEvIAtkbAVPkDF",
      "authorship_tag": "ABX9TyP193RFBhrjwD89I9aKMBBY",
      "include_colab_link": true
    },
    "kernelspec": {
      "name": "python3",
      "display_name": "Python 3"
    }
  },
  "cells": [
    {
      "cell_type": "markdown",
      "metadata": {
        "id": "view-in-github",
        "colab_type": "text"
      },
      "source": [
        "<a href=\"https://colab.research.google.com/github/achrisk/Dissertation/blob/main/Viewing_results.ipynb\" target=\"_parent\"><img src=\"https://colab.research.google.com/assets/colab-badge.svg\" alt=\"Open In Colab\"/></a>"
      ]
    },
    {
      "cell_type": "code",
      "metadata": {
        "colab": {
          "base_uri": "https://localhost:8080/"
        },
        "id": "G12GG1_a4hLd",
        "outputId": "ad1ae8ab-b12d-4281-e27b-14f3d5d742c5"
      },
      "source": [
        "!git clone https://github.com/achrisk/Dissertation.git"
      ],
      "execution_count": 1,
      "outputs": [
        {
          "output_type": "stream",
          "text": [
            "Cloning into 'Dissertation'...\n",
            "remote: Enumerating objects: 13, done.\u001b[K\n",
            "remote: Counting objects: 100% (13/13), done.\u001b[K\n",
            "remote: Compressing objects: 100% (13/13), done.\u001b[K\n",
            "remote: Total 155 (delta 3), reused 0 (delta 0), pack-reused 142\u001b[K\n",
            "Receiving objects: 100% (155/155), 226.90 MiB | 13.60 MiB/s, done.\n",
            "Resolving deltas: 100% (65/65), done.\n",
            "Checking out files: 100% (68/68), done.\n"
          ],
          "name": "stdout"
        }
      ]
    },
    {
      "cell_type": "code",
      "metadata": {
        "id": "m5M1raAqy0xY"
      },
      "source": [
        "import scipy.io as spio\r\n",
        "from scipy import stats\r\n",
        "import numpy as np\r\n",
        "import pandas as pd\r\n",
        "from importlib.machinery import SourceFileLoader\r\n",
        "import pickle\r\n",
        "\r\n",
        "# EEGNet-specific imports\r\n",
        "from tensorflow.keras import utils as np_utils\r\n",
        "from tensorflow.keras.callbacks import ModelCheckpoint\r\n",
        "from tensorflow.keras import backend as K\r\n",
        "from tensorflow.keras.models import Model\r\n",
        "from tensorflow.keras.layers import Dense, Activation, Permute, Dropout\r\n",
        "from tensorflow.keras.layers import Conv2D, MaxPooling2D, AveragePooling2D\r\n",
        "from tensorflow.keras.layers import SeparableConv2D, DepthwiseConv2D\r\n",
        "from tensorflow.keras.layers import BatchNormalization\r\n",
        "from tensorflow.keras.layers import Input, Flatten\r\n",
        "from tensorflow.keras.constraints import max_norm#\r\n",
        "from google.colab import files\r\n",
        "from sklearn.metrics import cohen_kappa_score\r\n",
        "from google.colab import drive\r\n",
        "\r\n",
        "K.set_image_data_format('channels_first')\r\n",
        "\r\n",
        "\r\n",
        "from tensorflow.keras.regularizers import l1_l2\r\n",
        "\r\n",
        "from tensorflow.keras.layers import SpatialDropout2D\r\n",
        "K.set_image_data_format('channels_first')\r\n",
        "\r\n",
        "from sklearn.pipeline import make_pipeline\r\n",
        "from sklearn.linear_model import LogisticRegression\r\n",
        "\r\n",
        "# tools for plotting confusion matrices\r\n",
        "from matplotlib import pyplot as plt\r\n",
        "from scipy.signal import butter, lfilter\r\n",
        "\r\n",
        "# formatting numbers\r\n",
        "float_formatter = \"{:.3f}\".format\r\n",
        "np.set_printoptions(formatter={'float_kind':float_formatter})"
      ],
      "execution_count": 16,
      "outputs": []
    },
    {
      "cell_type": "code",
      "metadata": {
        "colab": {
          "base_uri": "https://localhost:8080/"
        },
        "id": "ecSHgcRmym4N",
        "outputId": "91ef6583-f55c-456d-c020-52cfdc9304c6"
      },
      "source": [
        "model_name = 'DeepConvNet'  # ShallowConvNet or DeepConvNet\r\n",
        "kernels, chans, samples = 1, 12, 1536\r\n",
        "h_cut = [18,24,30]\r\n",
        "drop_out = [0.25,0.5]\r\n",
        "#k_len = [32,64,128,256]\r\n",
        "n_epochs = 100\r\n",
        "\r\n",
        "\r\n",
        "outfname_history = 'Dissertation/Results/DeepConvNet/Convolutional Layer_20/accuray_epochs' + str(n_epochs) + '_filter_' + str(h_cut) + '_drop_' + str(drop_out) + '_model_' + str(model_name) + '_history_data.pickle'\r\n",
        "outfname = 'Dissertation/Results/DeepConvNet/Convolutional Layer_20/accuray_epochs' + str(n_epochs)  + '_filter_' + str(h_cut) + '_drop_' + str(drop_out) + '_model_' + str(model_name) + '_patient_data.pickle'\r\n",
        "\r\n",
        "with open(outfname_history, 'rb') as handle:\r\n",
        "    history = pickle.load(handle)\r\n",
        "\r\n",
        "with open(outfname, 'rb') as handle:\r\n",
        "    hyper_parameter_matrix = pickle.load(handle)\r\n",
        "\r\n",
        "#mean across patients per given a selection of hyperparameters\r\n",
        "hyper_parameter_matrix_mean_patient = np.mean(hyper_parameter_matrix, axis=0, keepdims=True) \r\n",
        "\r\n",
        "#standard error of mean across patients per given selection of hyperparameters\r\n",
        "sem_acc = stats.sem(hyper_parameter_matrix, axis=0) #std across patients per given selection of hyperparameters\r\n",
        "print(sem_acc)\r\n"
      ],
      "execution_count": 37,
      "outputs": [
        {
          "output_type": "stream",
          "text": [
            "[[[0.866 0.000 0.000 0.069]\n",
            "  [0.866 0.000 0.000 0.068]]\n",
            "\n",
            " [[0.866 0.000 0.000 0.023]\n",
            "  [0.866 0.000 0.000 0.044]]\n",
            "\n",
            " [[0.866 0.000 0.000 0.046]\n",
            "  [0.866 0.000 0.000 0.076]]]\n"
          ],
          "name": "stdout"
        }
      ]
    },
    {
      "cell_type": "code",
      "metadata": {
        "id": "RUGqwO6Q9s6O"
      },
      "source": [
        "\r\n",
        "ind = np.unravel_index(np.argmax(acc_sub, axis=None), acc_sub.shape) #index of optimal hyperparameters\r\n",
        "acc_sub\r\n",
        "hyper_parameter_matrix\r\n",
        "hyper_parameter_matrix[ind] #accuracy of optimal model (i.e. best hyperparameters)\r\n",
        "reduced_acc_sub = np.mean(acc_sub, axis=0, keepdims=True) #mean across patients per given selection of hyperparameters\r\n",
        "hyper_parameter_matrix_sub = np.mean(hyper_parameter_matrix, axis=0, keepdims=True) #mean across patients per given selection of hyperparameters\r\n",
        "\r\n",
        "sem_acc = np.std(acc_sub, axis=0, keepdims=True) #std across patients per given selection of hyperparameters\r\n",
        "\r\n",
        "ind_reduced = np.unravel_index(np.argmax(reduced_acc_sub, axis=None), reduced_acc_sub.shape) #index for best hyperparameter selection for best mean accuracy across patients\r\n",
        "#print('Index is: {}'.format(ind_reduced[-1]))\r\n",
        "#print('Hyperparameters are: {}'.format(hyper_parameter_matrix[ind_reduced]))\r\n",
        "#print(hyper_parameter_matrix[ind_reduced])\r\n",
        "\r\n",
        "#print(acc_sub)\r\n",
        "\r\n",
        "\r\n",
        "\r\n",
        "#print(reduced_acc_sub)\r\n",
        "print(hyper_parameter_matrix_sub)\r\n",
        "#print(sem_acc)"
      ],
      "execution_count": null,
      "outputs": []
    }
  ]
}